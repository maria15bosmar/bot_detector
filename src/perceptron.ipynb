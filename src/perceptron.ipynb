{
 "cells": [
  {
   "cell_type": "code",
   "execution_count": 8,
   "metadata": {},
   "outputs": [],
   "source": [
    "import pandas as pd\n",
    "import numpy as np\n",
    "import tensorflow as tf\n",
    "import os, sys\n",
    "PATH = os.path.abspath(\"\")[:-3]"
   ]
  },
  {
   "cell_type": "code",
   "execution_count": 2,
   "metadata": {},
   "outputs": [
    {
     "name": "stdout",
     "output_type": "stream",
     "text": [
      "[340, False, 26626, 97, 19968, 134, 6255, 4.637254901960785, 17.470588235294116, 271.45098039215685, 0.8921568627450981, 0.1568627450980392, 26529]\n",
      "[340, False, 26626, 97, 19968, 134, 6255, 4.637254901960785, 17.470588235294116, 271.45098039215685, 0.8921568627450981, 0.1568627450980392, 26529]\n"
     ]
    },
    {
     "name": "stderr",
     "output_type": "stream",
     "text": [
      "c:\\Users\\maria\\Documents\\Uni\\org_ia\\bot_detector\\.venv\\lib\\site-packages\\sklearn\\feature_extraction\\text.py:528: UserWarning: The parameter 'token_pattern' will not be used since 'tokenizer' is not None'\n",
      "  warnings.warn(\n"
     ]
    }
   ],
   "source": [
    "\n",
    "# SCRAPPEAR UN USUARIO\n",
    "from test_user import get_user_data\n",
    "\n",
    "USER = \"ComicGirlAshley\"\n",
    "user_data = get_user_data(USER)\n",
    "print(user_data)"
   ]
  },
  {
   "cell_type": "code",
   "execution_count": 3,
   "metadata": {},
   "outputs": [
    {
     "name": "stdout",
     "output_type": "stream",
     "text": [
      "   factor_rep  verified  followersCount  friendsCount  tweetsCount  \\\n",
      "0          54         0              24            78          327   \n",
      "1         445         0              78             3         8303   \n",
      "2           1         0             746           999       158338   \n",
      "3          55         0             392           383        62776   \n",
      "4           6         0              82           217         5319   \n",
      "\n",
      "   listedCount  mediaCount  avg_reply  avg_retweet  like_reply  avg_quote  \\\n",
      "0            0           0   0.000000     0.235294    0.323529        0.0   \n",
      "1           11           0   0.000000     0.020408    0.061224        0.0   \n",
      "2            1          52   0.000000     0.000000    0.000000        0.0   \n",
      "3            6         227   0.078947     0.000000    0.447368        0.0   \n",
      "4            2         439   0.000000     0.000000    0.000000        0.0   \n",
      "\n",
      "   hora_rep  followers_diff  clase  \n",
      "0  0.176471             -24    bot  \n",
      "1  0.285714             -78    bot  \n",
      "2  1.000000            -746    bot  \n",
      "3  0.157895            -392    bot  \n",
      "4  1.000000             -82  human  \n"
     ]
    }
   ],
   "source": [
    "# Se leen los datos generados con model.py\\n\",\n",
    "df_data = pd.read_csv(PATH + \"data/training_new.csv\").sample(frac=1).reset_index(drop=True)\n",
    "data = df_data.iloc[:, 1:]\n",
    "print(data.head())"
   ]
  },
  {
   "cell_type": "code",
   "execution_count": 4,
   "metadata": {},
   "outputs": [],
   "source": [
    "from sklearn import preprocessing\n",
    "from sklearn.model_selection import train_test_split\n",
    "header_names = list(data.columns.values)\n",
    "for col in data.iloc[:,:-1]:\n",
    "    data[col] = preprocessing.MinMaxScaler().fit_transform(np.array(data[col]).reshape(-1,1))\n",
    "x_data = data.iloc[:,:-1].to_numpy()\n",
    "y_data = data.iloc[:,-1].to_numpy()\n",
    "x_train, x_test, y_train, y_test = train_test_split(\n",
    "    x_data, y_data, test_size=0.33)"
   ]
  },
  {
   "cell_type": "code",
   "execution_count": 5,
   "metadata": {},
   "outputs": [
    {
     "name": "stdout",
     "output_type": "stream",
     "text": [
      "['human' 'bot' 'bot' 'human' 'human']\n",
      "[[1 0]\n",
      " [0 1]\n",
      " [0 1]\n",
      " [1 0]\n",
      " [1 0]]\n"
     ]
    }
   ],
   "source": [
    "#CONVERTIRLA SALIDA A UN VECTOR DE 0 Y 1\n",
    "from sklearn.preprocessing import LabelBinarizer\n",
    "\n",
    "encoder=LabelBinarizer()\n",
    "label = encoder.fit_transform(y_train)\n",
    "y_train_transformed = np.hstack((label, 1 - label))\n",
    "label = encoder.fit_transform(y_test)\n",
    "y_test_transformed = np.hstack((label, 1 - label))\n",
    "print(y_train[:5])\n",
    "print(y_train_transformed[:5])"
   ]
  },
  {
   "cell_type": "code",
   "execution_count": 6,
   "metadata": {},
   "outputs": [
    {
     "name": "stdout",
     "output_type": "stream",
     "text": [
      "<class 'numpy.ndarray'>\n",
      "<class 'numpy.ndarray'>\n",
      "(1616, 13)\n",
      "(1616,)\n",
      "(1616, 2)\n",
      "(796, 13)\n",
      "(796,)\n",
      "(796, 2)\n"
     ]
    }
   ],
   "source": [
    "# COMPROBAR TIPO DE LOS DATOS\n",
    "print(type(x_train))\n",
    "print(type(y_train_transformed))\n",
    "# COMPROBAR DIMENSIONES DE LOS DATOS\n",
    "print(x_train.shape)\n",
    "print(y_train.shape)\n",
    "print(y_train_transformed.shape)\n",
    "print(x_test.shape)\n",
    "print(y_test.shape)\n",
    "print(y_test_transformed.shape) \n",
    "# OBTENER DIMENSION DE LA ENTRADA Y NÚMERO DE SALIDAS\n",
    "input_shape = (x_train.shape[1] ,)\n",
    "num_clases = y_test_transformed.shape[1]"
   ]
  },
  {
   "cell_type": "code",
   "execution_count": 16,
   "metadata": {},
   "outputs": [
    {
     "name": "stdout",
     "output_type": "stream",
     "text": [
      "Model: \"sequential_1\"\n",
      "_________________________________________________________________\n",
      " Layer (type)                Output Shape              Param #   \n",
      "=================================================================\n",
      " dense_2 (Dense)             (None, 20)                280       \n",
      "                                                                 \n",
      " dense_3 (Dense)             (None, 20)                420       \n",
      "                                                                 \n",
      " dense_4 (Dense)             (None, 2)                 42        \n",
      "                                                                 \n",
      "=================================================================\n",
      "Total params: 742\n",
      "Trainable params: 742\n",
      "Non-trainable params: 0\n",
      "_________________________________________________________________\n"
     ]
    }
   ],
   "source": [
    "# Crear modelo usando sigmoide\n",
    "from keras.models import Sequential\n",
    "from keras.layers import Dense, Dropout, BatchNormalization, Flatten\n",
    "input_shape= (x_train.shape[1] ,)\n",
    "model = Sequential()\n",
    "arch = [20, 20, 0]\n",
    "model.add(Dense(arch[0], input_shape=input_shape, activation='sigmoid'))\n",
    "model.add(Dense(arch[1], input_shape=input_shape, activation='sigmoid'))\n",
    "model.add(Dense(2, activation='softmax'))\n",
    "model.summary()"
   ]
  },
  {
   "cell_type": "code",
   "execution_count": 17,
   "metadata": {},
   "outputs": [
    {
     "name": "stdout",
     "output_type": "stream",
     "text": [
      "Epoch 1/80000\n",
      "81/81 [==============================] - 1s 7ms/step - loss: 0.2524 - accuracy: 0.5449 - mse: 0.2524 - val_loss: 0.2342 - val_accuracy: 0.6235 - val_mse: 0.2342\n",
      "Epoch 2/80000\n",
      "81/81 [==============================] - 0s 3ms/step - loss: 0.2479 - accuracy: 0.5565 - mse: 0.2479 - val_loss: 0.2325 - val_accuracy: 0.6235 - val_mse: 0.2325\n",
      "Epoch 3/80000\n",
      "81/81 [==============================] - 0s 3ms/step - loss: 0.2462 - accuracy: 0.5596 - mse: 0.2462 - val_loss: 0.2305 - val_accuracy: 0.6235 - val_mse: 0.2305\n",
      "Epoch 4/80000\n",
      "81/81 [==============================] - 0s 2ms/step - loss: 0.2442 - accuracy: 0.5650 - mse: 0.2442 - val_loss: 0.2280 - val_accuracy: 0.6235 - val_mse: 0.2280\n",
      "Epoch 5/80000\n",
      "81/81 [==============================] - 0s 2ms/step - loss: 0.2417 - accuracy: 0.5751 - mse: 0.2417 - val_loss: 0.2247 - val_accuracy: 0.6235 - val_mse: 0.2247\n",
      "Epoch 6/80000\n",
      "81/81 [==============================] - 0s 2ms/step - loss: 0.2385 - accuracy: 0.5967 - mse: 0.2385 - val_loss: 0.2203 - val_accuracy: 0.6235 - val_mse: 0.2203\n",
      "Epoch 7/80000\n",
      "81/81 [==============================] - 0s 2ms/step - loss: 0.2343 - accuracy: 0.6153 - mse: 0.2343 - val_loss: 0.2146 - val_accuracy: 0.7438 - val_mse: 0.2146\n",
      "Epoch 8/80000\n",
      "81/81 [==============================] - 0s 2ms/step - loss: 0.2291 - accuracy: 0.6455 - mse: 0.2291 - val_loss: 0.2075 - val_accuracy: 0.7438 - val_mse: 0.2075\n",
      "Epoch 9/80000\n",
      "81/81 [==============================] - 0s 2ms/step - loss: 0.2231 - accuracy: 0.6757 - mse: 0.2231 - val_loss: 0.1996 - val_accuracy: 0.7531 - val_mse: 0.1996\n",
      "Epoch 10/80000\n",
      "81/81 [==============================] - 0s 2ms/step - loss: 0.2172 - accuracy: 0.6858 - mse: 0.2172 - val_loss: 0.1923 - val_accuracy: 0.7531 - val_mse: 0.1923\n",
      "Epoch 11/80000\n",
      "81/81 [==============================] - 0s 3ms/step - loss: 0.2122 - accuracy: 0.6842 - mse: 0.2122 - val_loss: 0.1865 - val_accuracy: 0.7531 - val_mse: 0.1865\n",
      "Epoch 12/80000\n",
      "81/81 [==============================] - 0s 3ms/step - loss: 0.2087 - accuracy: 0.6865 - mse: 0.2087 - val_loss: 0.1827 - val_accuracy: 0.7531 - val_mse: 0.1827\n",
      "Epoch 13/80000\n",
      "81/81 [==============================] - 0s 2ms/step - loss: 0.2064 - accuracy: 0.6865 - mse: 0.2064 - val_loss: 0.1802 - val_accuracy: 0.7531 - val_mse: 0.1802\n",
      "Epoch 14/80000\n",
      "81/81 [==============================] - 0s 3ms/step - loss: 0.2049 - accuracy: 0.6881 - mse: 0.2049 - val_loss: 0.1786 - val_accuracy: 0.7531 - val_mse: 0.1786\n",
      "Epoch 15/80000\n",
      "81/81 [==============================] - 0s 4ms/step - loss: 0.2039 - accuracy: 0.6865 - mse: 0.2039 - val_loss: 0.1776 - val_accuracy: 0.7531 - val_mse: 0.1776\n",
      "Epoch 16/80000\n",
      "81/81 [==============================] - 0s 3ms/step - loss: 0.2032 - accuracy: 0.6842 - mse: 0.2032 - val_loss: 0.1769 - val_accuracy: 0.7531 - val_mse: 0.1769\n",
      "Epoch 17/80000\n",
      "81/81 [==============================] - 0s 2ms/step - loss: 0.2027 - accuracy: 0.6842 - mse: 0.2027 - val_loss: 0.1764 - val_accuracy: 0.7531 - val_mse: 0.1764\n",
      "Epoch 18/80000\n",
      "81/81 [==============================] - 0s 3ms/step - loss: 0.2023 - accuracy: 0.6842 - mse: 0.2023 - val_loss: 0.1760 - val_accuracy: 0.7531 - val_mse: 0.1760\n",
      "Epoch 19/80000\n",
      "81/81 [==============================] - 0s 3ms/step - loss: 0.2020 - accuracy: 0.6834 - mse: 0.2020 - val_loss: 0.1758 - val_accuracy: 0.7531 - val_mse: 0.1758\n",
      "Epoch 20/80000\n",
      "81/81 [==============================] - 0s 2ms/step - loss: 0.2018 - accuracy: 0.6827 - mse: 0.2018 - val_loss: 0.1756 - val_accuracy: 0.7531 - val_mse: 0.1756\n",
      "Epoch 21/80000\n",
      "81/81 [==============================] - 0s 3ms/step - loss: 0.2016 - accuracy: 0.6834 - mse: 0.2016 - val_loss: 0.1754 - val_accuracy: 0.7531 - val_mse: 0.1754\n",
      "Epoch 22/80000\n",
      "81/81 [==============================] - 0s 3ms/step - loss: 0.2014 - accuracy: 0.6834 - mse: 0.2014 - val_loss: 0.1753 - val_accuracy: 0.7531 - val_mse: 0.1753\n",
      "Epoch 23/80000\n",
      "81/81 [==============================] - 0s 3ms/step - loss: 0.2012 - accuracy: 0.6834 - mse: 0.2012 - val_loss: 0.1752 - val_accuracy: 0.7531 - val_mse: 0.1752\n",
      "Epoch 24/80000\n",
      "81/81 [==============================] - 0s 4ms/step - loss: 0.2010 - accuracy: 0.6842 - mse: 0.2010 - val_loss: 0.1751 - val_accuracy: 0.7531 - val_mse: 0.1751\n",
      "Epoch 25/80000\n",
      "81/81 [==============================] - 0s 3ms/step - loss: 0.2009 - accuracy: 0.6842 - mse: 0.2009 - val_loss: 0.1750 - val_accuracy: 0.7531 - val_mse: 0.1750\n",
      "Epoch 26/80000\n",
      "81/81 [==============================] - 0s 3ms/step - loss: 0.2008 - accuracy: 0.6842 - mse: 0.2008 - val_loss: 0.1750 - val_accuracy: 0.7531 - val_mse: 0.1750\n",
      "Epoch 27/80000\n",
      "81/81 [==============================] - 0s 2ms/step - loss: 0.2006 - accuracy: 0.6842 - mse: 0.2006 - val_loss: 0.1749 - val_accuracy: 0.7531 - val_mse: 0.1749\n",
      "Epoch 28/80000\n",
      "81/81 [==============================] - 0s 2ms/step - loss: 0.2005 - accuracy: 0.6842 - mse: 0.2005 - val_loss: 0.1749 - val_accuracy: 0.7531 - val_mse: 0.1749\n",
      "Epoch 29/80000\n",
      "81/81 [==============================] - 0s 2ms/step - loss: 0.2004 - accuracy: 0.6842 - mse: 0.2004 - val_loss: 0.1749 - val_accuracy: 0.7531 - val_mse: 0.1749\n",
      "Epoch 30/80000\n",
      "81/81 [==============================] - 0s 3ms/step - loss: 0.2003 - accuracy: 0.6850 - mse: 0.2003 - val_loss: 0.1749 - val_accuracy: 0.7531 - val_mse: 0.1749\n",
      "Epoch 31/80000\n",
      "81/81 [==============================] - 0s 2ms/step - loss: 0.2002 - accuracy: 0.6858 - mse: 0.2002 - val_loss: 0.1748 - val_accuracy: 0.7531 - val_mse: 0.1748\n",
      "Epoch 32/80000\n",
      "81/81 [==============================] - 0s 2ms/step - loss: 0.2001 - accuracy: 0.6865 - mse: 0.2001 - val_loss: 0.1748 - val_accuracy: 0.7531 - val_mse: 0.1748\n",
      "Epoch 33/80000\n",
      "81/81 [==============================] - 0s 2ms/step - loss: 0.2000 - accuracy: 0.6865 - mse: 0.2000 - val_loss: 0.1748 - val_accuracy: 0.7531 - val_mse: 0.1748\n",
      "Epoch 34/80000\n",
      "81/81 [==============================] - 0s 3ms/step - loss: 0.1999 - accuracy: 0.6865 - mse: 0.1999 - val_loss: 0.1748 - val_accuracy: 0.7531 - val_mse: 0.1748\n",
      "Epoch 35/80000\n",
      "81/81 [==============================] - 0s 2ms/step - loss: 0.1998 - accuracy: 0.6858 - mse: 0.1998 - val_loss: 0.1748 - val_accuracy: 0.7531 - val_mse: 0.1748\n",
      "Epoch 36/80000\n",
      "81/81 [==============================] - 0s 2ms/step - loss: 0.1997 - accuracy: 0.6858 - mse: 0.1997 - val_loss: 0.1748 - val_accuracy: 0.7531 - val_mse: 0.1748\n",
      "Epoch 37/80000\n",
      "81/81 [==============================] - 0s 2ms/step - loss: 0.1997 - accuracy: 0.6850 - mse: 0.1997 - val_loss: 0.1748 - val_accuracy: 0.7531 - val_mse: 0.1748\n",
      "Epoch 38/80000\n",
      "81/81 [==============================] - 0s 3ms/step - loss: 0.1996 - accuracy: 0.6850 - mse: 0.1996 - val_loss: 0.1748 - val_accuracy: 0.7531 - val_mse: 0.1748\n",
      "Epoch 39/80000\n",
      "81/81 [==============================] - 0s 2ms/step - loss: 0.1995 - accuracy: 0.6850 - mse: 0.1995 - val_loss: 0.1748 - val_accuracy: 0.7531 - val_mse: 0.1748\n",
      "Epoch 40/80000\n",
      "81/81 [==============================] - 0s 2ms/step - loss: 0.1994 - accuracy: 0.6858 - mse: 0.1994 - val_loss: 0.1748 - val_accuracy: 0.7531 - val_mse: 0.1748\n",
      "Epoch 41/80000\n",
      "81/81 [==============================] - 0s 2ms/step - loss: 0.1994 - accuracy: 0.6865 - mse: 0.1994 - val_loss: 0.1748 - val_accuracy: 0.7531 - val_mse: 0.1748\n",
      "Epoch 42/80000\n",
      "81/81 [==============================] - 0s 2ms/step - loss: 0.1993 - accuracy: 0.6865 - mse: 0.1993 - val_loss: 0.1748 - val_accuracy: 0.7531 - val_mse: 0.1748\n",
      "Epoch 43/80000\n",
      "81/81 [==============================] - 0s 2ms/step - loss: 0.1992 - accuracy: 0.6865 - mse: 0.1992 - val_loss: 0.1748 - val_accuracy: 0.7531 - val_mse: 0.1748\n"
     ]
    }
   ],
   "source": [
    "# CONFIGURAR MODELO Y ENTRENAMIENTO\n",
    "from keras.callbacks import EarlyStopping\n",
    "lr = 0.3\n",
    "#batch_size=32\n",
    "epochs = 80000\n",
    "early_stopping = EarlyStopping(monitor='val_loss', patience=1)\n",
    "#Para poder ver la curva de validación hay que poner validation_freq=1. Tarda más\n",
    "model.compile(optimizer=tf.keras.optimizers.SGD(learning_rate=lr, momentum=0), metrics=['accuracy','mse'], loss='mean_squared_error')\n",
    "historico = model.fit(x_train, y_train_transformed, epochs=epochs, verbose=1, validation_split=0.2,\n",
    "    shuffle=False, validation_freq=1, batch_size=16, callbacks=[early_stopping])"
   ]
  },
  {
   "cell_type": "code",
   "execution_count": 19,
   "metadata": {},
   "outputs": [
    {
     "ename": "FileNotFoundError",
     "evalue": "[Errno 2] No such file or directory: 'data/vals.csv'",
     "output_type": "error",
     "traceback": [
      "\u001b[1;31m---------------------------------------------------------------------------\u001b[0m",
      "\u001b[1;31mFileNotFoundError\u001b[0m                         Traceback (most recent call last)",
      "Cell \u001b[1;32mIn[19], line 3\u001b[0m\n\u001b[0;32m      1\u001b[0m col_names \u001b[39m=\u001b[39m [\u001b[39m'\u001b[39m\u001b[39marquitectura\u001b[39m\u001b[39m'\u001b[39m, \u001b[39m'\u001b[39m\u001b[39mloss\u001b[39m\u001b[39m'\u001b[39m, \u001b[39m'\u001b[39m\u001b[39mval_loss\u001b[39m\u001b[39m'\u001b[39m, \u001b[39m'\u001b[39m\u001b[39maccuracy\u001b[39m\u001b[39m'\u001b[39m, \u001b[39m'\u001b[39m\u001b[39mval_accuracy\u001b[39m\u001b[39m'\u001b[39m, \u001b[39m'\u001b[39m\u001b[39mepoch\u001b[39m\u001b[39m'\u001b[39m]\n\u001b[0;32m      2\u001b[0m \u001b[39m#dff = pd.DataFrame([], columns=col_names)\u001b[39;00m\n\u001b[1;32m----> 3\u001b[0m dff \u001b[39m=\u001b[39m pd\u001b[39m.\u001b[39;49mread_csv(\u001b[39m'\u001b[39;49m\u001b[39mdata/vals.csv\u001b[39;49m\u001b[39m'\u001b[39;49m)\n\u001b[0;32m      4\u001b[0m final_epoch\u001b[39m=\u001b[39m\u001b[39mlen\u001b[39m(historico\u001b[39m.\u001b[39mhistory[\u001b[39m'\u001b[39m\u001b[39mloss\u001b[39m\u001b[39m'\u001b[39m])\u001b[39m-\u001b[39m\u001b[39m1\u001b[39m\n\u001b[0;32m      5\u001b[0m \u001b[39mprint\u001b[39m(final_epoch)\n",
      "File \u001b[1;32mc:\\Users\\maria\\Documents\\Uni\\org_ia\\bot_detector\\.venv\\lib\\site-packages\\pandas\\util\\_decorators.py:211\u001b[0m, in \u001b[0;36mdeprecate_kwarg.<locals>._deprecate_kwarg.<locals>.wrapper\u001b[1;34m(*args, **kwargs)\u001b[0m\n\u001b[0;32m    209\u001b[0m     \u001b[39melse\u001b[39;00m:\n\u001b[0;32m    210\u001b[0m         kwargs[new_arg_name] \u001b[39m=\u001b[39m new_arg_value\n\u001b[1;32m--> 211\u001b[0m \u001b[39mreturn\u001b[39;00m func(\u001b[39m*\u001b[39margs, \u001b[39m*\u001b[39m\u001b[39m*\u001b[39mkwargs)\n",
      "File \u001b[1;32mc:\\Users\\maria\\Documents\\Uni\\org_ia\\bot_detector\\.venv\\lib\\site-packages\\pandas\\util\\_decorators.py:331\u001b[0m, in \u001b[0;36mdeprecate_nonkeyword_arguments.<locals>.decorate.<locals>.wrapper\u001b[1;34m(*args, **kwargs)\u001b[0m\n\u001b[0;32m    325\u001b[0m \u001b[39mif\u001b[39;00m \u001b[39mlen\u001b[39m(args) \u001b[39m>\u001b[39m num_allow_args:\n\u001b[0;32m    326\u001b[0m     warnings\u001b[39m.\u001b[39mwarn(\n\u001b[0;32m    327\u001b[0m         msg\u001b[39m.\u001b[39mformat(arguments\u001b[39m=\u001b[39m_format_argument_list(allow_args)),\n\u001b[0;32m    328\u001b[0m         \u001b[39mFutureWarning\u001b[39;00m,\n\u001b[0;32m    329\u001b[0m         stacklevel\u001b[39m=\u001b[39mfind_stack_level(),\n\u001b[0;32m    330\u001b[0m     )\n\u001b[1;32m--> 331\u001b[0m \u001b[39mreturn\u001b[39;00m func(\u001b[39m*\u001b[39margs, \u001b[39m*\u001b[39m\u001b[39m*\u001b[39mkwargs)\n",
      "File \u001b[1;32mc:\\Users\\maria\\Documents\\Uni\\org_ia\\bot_detector\\.venv\\lib\\site-packages\\pandas\\io\\parsers\\readers.py:950\u001b[0m, in \u001b[0;36mread_csv\u001b[1;34m(filepath_or_buffer, sep, delimiter, header, names, index_col, usecols, squeeze, prefix, mangle_dupe_cols, dtype, engine, converters, true_values, false_values, skipinitialspace, skiprows, skipfooter, nrows, na_values, keep_default_na, na_filter, verbose, skip_blank_lines, parse_dates, infer_datetime_format, keep_date_col, date_parser, dayfirst, cache_dates, iterator, chunksize, compression, thousands, decimal, lineterminator, quotechar, quoting, doublequote, escapechar, comment, encoding, encoding_errors, dialect, error_bad_lines, warn_bad_lines, on_bad_lines, delim_whitespace, low_memory, memory_map, float_precision, storage_options)\u001b[0m\n\u001b[0;32m    935\u001b[0m kwds_defaults \u001b[39m=\u001b[39m _refine_defaults_read(\n\u001b[0;32m    936\u001b[0m     dialect,\n\u001b[0;32m    937\u001b[0m     delimiter,\n\u001b[1;32m   (...)\u001b[0m\n\u001b[0;32m    946\u001b[0m     defaults\u001b[39m=\u001b[39m{\u001b[39m\"\u001b[39m\u001b[39mdelimiter\u001b[39m\u001b[39m\"\u001b[39m: \u001b[39m\"\u001b[39m\u001b[39m,\u001b[39m\u001b[39m\"\u001b[39m},\n\u001b[0;32m    947\u001b[0m )\n\u001b[0;32m    948\u001b[0m kwds\u001b[39m.\u001b[39mupdate(kwds_defaults)\n\u001b[1;32m--> 950\u001b[0m \u001b[39mreturn\u001b[39;00m _read(filepath_or_buffer, kwds)\n",
      "File \u001b[1;32mc:\\Users\\maria\\Documents\\Uni\\org_ia\\bot_detector\\.venv\\lib\\site-packages\\pandas\\io\\parsers\\readers.py:605\u001b[0m, in \u001b[0;36m_read\u001b[1;34m(filepath_or_buffer, kwds)\u001b[0m\n\u001b[0;32m    602\u001b[0m _validate_names(kwds\u001b[39m.\u001b[39mget(\u001b[39m\"\u001b[39m\u001b[39mnames\u001b[39m\u001b[39m\"\u001b[39m, \u001b[39mNone\u001b[39;00m))\n\u001b[0;32m    604\u001b[0m \u001b[39m# Create the parser.\u001b[39;00m\n\u001b[1;32m--> 605\u001b[0m parser \u001b[39m=\u001b[39m TextFileReader(filepath_or_buffer, \u001b[39m*\u001b[39m\u001b[39m*\u001b[39mkwds)\n\u001b[0;32m    607\u001b[0m \u001b[39mif\u001b[39;00m chunksize \u001b[39mor\u001b[39;00m iterator:\n\u001b[0;32m    608\u001b[0m     \u001b[39mreturn\u001b[39;00m parser\n",
      "File \u001b[1;32mc:\\Users\\maria\\Documents\\Uni\\org_ia\\bot_detector\\.venv\\lib\\site-packages\\pandas\\io\\parsers\\readers.py:1442\u001b[0m, in \u001b[0;36mTextFileReader.__init__\u001b[1;34m(self, f, engine, **kwds)\u001b[0m\n\u001b[0;32m   1439\u001b[0m     \u001b[39mself\u001b[39m\u001b[39m.\u001b[39moptions[\u001b[39m\"\u001b[39m\u001b[39mhas_index_names\u001b[39m\u001b[39m\"\u001b[39m] \u001b[39m=\u001b[39m kwds[\u001b[39m\"\u001b[39m\u001b[39mhas_index_names\u001b[39m\u001b[39m\"\u001b[39m]\n\u001b[0;32m   1441\u001b[0m \u001b[39mself\u001b[39m\u001b[39m.\u001b[39mhandles: IOHandles \u001b[39m|\u001b[39m \u001b[39mNone\u001b[39;00m \u001b[39m=\u001b[39m \u001b[39mNone\u001b[39;00m\n\u001b[1;32m-> 1442\u001b[0m \u001b[39mself\u001b[39m\u001b[39m.\u001b[39m_engine \u001b[39m=\u001b[39m \u001b[39mself\u001b[39;49m\u001b[39m.\u001b[39;49m_make_engine(f, \u001b[39mself\u001b[39;49m\u001b[39m.\u001b[39;49mengine)\n",
      "File \u001b[1;32mc:\\Users\\maria\\Documents\\Uni\\org_ia\\bot_detector\\.venv\\lib\\site-packages\\pandas\\io\\parsers\\readers.py:1735\u001b[0m, in \u001b[0;36mTextFileReader._make_engine\u001b[1;34m(self, f, engine)\u001b[0m\n\u001b[0;32m   1733\u001b[0m     \u001b[39mif\u001b[39;00m \u001b[39m\"\u001b[39m\u001b[39mb\u001b[39m\u001b[39m\"\u001b[39m \u001b[39mnot\u001b[39;00m \u001b[39min\u001b[39;00m mode:\n\u001b[0;32m   1734\u001b[0m         mode \u001b[39m+\u001b[39m\u001b[39m=\u001b[39m \u001b[39m\"\u001b[39m\u001b[39mb\u001b[39m\u001b[39m\"\u001b[39m\n\u001b[1;32m-> 1735\u001b[0m \u001b[39mself\u001b[39m\u001b[39m.\u001b[39mhandles \u001b[39m=\u001b[39m get_handle(\n\u001b[0;32m   1736\u001b[0m     f,\n\u001b[0;32m   1737\u001b[0m     mode,\n\u001b[0;32m   1738\u001b[0m     encoding\u001b[39m=\u001b[39;49m\u001b[39mself\u001b[39;49m\u001b[39m.\u001b[39;49moptions\u001b[39m.\u001b[39;49mget(\u001b[39m\"\u001b[39;49m\u001b[39mencoding\u001b[39;49m\u001b[39m\"\u001b[39;49m, \u001b[39mNone\u001b[39;49;00m),\n\u001b[0;32m   1739\u001b[0m     compression\u001b[39m=\u001b[39;49m\u001b[39mself\u001b[39;49m\u001b[39m.\u001b[39;49moptions\u001b[39m.\u001b[39;49mget(\u001b[39m\"\u001b[39;49m\u001b[39mcompression\u001b[39;49m\u001b[39m\"\u001b[39;49m, \u001b[39mNone\u001b[39;49;00m),\n\u001b[0;32m   1740\u001b[0m     memory_map\u001b[39m=\u001b[39;49m\u001b[39mself\u001b[39;49m\u001b[39m.\u001b[39;49moptions\u001b[39m.\u001b[39;49mget(\u001b[39m\"\u001b[39;49m\u001b[39mmemory_map\u001b[39;49m\u001b[39m\"\u001b[39;49m, \u001b[39mFalse\u001b[39;49;00m),\n\u001b[0;32m   1741\u001b[0m     is_text\u001b[39m=\u001b[39;49mis_text,\n\u001b[0;32m   1742\u001b[0m     errors\u001b[39m=\u001b[39;49m\u001b[39mself\u001b[39;49m\u001b[39m.\u001b[39;49moptions\u001b[39m.\u001b[39;49mget(\u001b[39m\"\u001b[39;49m\u001b[39mencoding_errors\u001b[39;49m\u001b[39m\"\u001b[39;49m, \u001b[39m\"\u001b[39;49m\u001b[39mstrict\u001b[39;49m\u001b[39m\"\u001b[39;49m),\n\u001b[0;32m   1743\u001b[0m     storage_options\u001b[39m=\u001b[39;49m\u001b[39mself\u001b[39;49m\u001b[39m.\u001b[39;49moptions\u001b[39m.\u001b[39;49mget(\u001b[39m\"\u001b[39;49m\u001b[39mstorage_options\u001b[39;49m\u001b[39m\"\u001b[39;49m, \u001b[39mNone\u001b[39;49;00m),\n\u001b[0;32m   1744\u001b[0m )\n\u001b[0;32m   1745\u001b[0m \u001b[39massert\u001b[39;00m \u001b[39mself\u001b[39m\u001b[39m.\u001b[39mhandles \u001b[39mis\u001b[39;00m \u001b[39mnot\u001b[39;00m \u001b[39mNone\u001b[39;00m\n\u001b[0;32m   1746\u001b[0m f \u001b[39m=\u001b[39m \u001b[39mself\u001b[39m\u001b[39m.\u001b[39mhandles\u001b[39m.\u001b[39mhandle\n",
      "File \u001b[1;32mc:\\Users\\maria\\Documents\\Uni\\org_ia\\bot_detector\\.venv\\lib\\site-packages\\pandas\\io\\common.py:856\u001b[0m, in \u001b[0;36mget_handle\u001b[1;34m(path_or_buf, mode, encoding, compression, memory_map, is_text, errors, storage_options)\u001b[0m\n\u001b[0;32m    851\u001b[0m \u001b[39melif\u001b[39;00m \u001b[39misinstance\u001b[39m(handle, \u001b[39mstr\u001b[39m):\n\u001b[0;32m    852\u001b[0m     \u001b[39m# Check whether the filename is to be opened in binary mode.\u001b[39;00m\n\u001b[0;32m    853\u001b[0m     \u001b[39m# Binary mode does not support 'encoding' and 'newline'.\u001b[39;00m\n\u001b[0;32m    854\u001b[0m     \u001b[39mif\u001b[39;00m ioargs\u001b[39m.\u001b[39mencoding \u001b[39mand\u001b[39;00m \u001b[39m\"\u001b[39m\u001b[39mb\u001b[39m\u001b[39m\"\u001b[39m \u001b[39mnot\u001b[39;00m \u001b[39min\u001b[39;00m ioargs\u001b[39m.\u001b[39mmode:\n\u001b[0;32m    855\u001b[0m         \u001b[39m# Encoding\u001b[39;00m\n\u001b[1;32m--> 856\u001b[0m         handle \u001b[39m=\u001b[39m \u001b[39mopen\u001b[39;49m(\n\u001b[0;32m    857\u001b[0m             handle,\n\u001b[0;32m    858\u001b[0m             ioargs\u001b[39m.\u001b[39;49mmode,\n\u001b[0;32m    859\u001b[0m             encoding\u001b[39m=\u001b[39;49mioargs\u001b[39m.\u001b[39;49mencoding,\n\u001b[0;32m    860\u001b[0m             errors\u001b[39m=\u001b[39;49merrors,\n\u001b[0;32m    861\u001b[0m             newline\u001b[39m=\u001b[39;49m\u001b[39m\"\u001b[39;49m\u001b[39m\"\u001b[39;49m,\n\u001b[0;32m    862\u001b[0m         )\n\u001b[0;32m    863\u001b[0m     \u001b[39melse\u001b[39;00m:\n\u001b[0;32m    864\u001b[0m         \u001b[39m# Binary mode\u001b[39;00m\n\u001b[0;32m    865\u001b[0m         handle \u001b[39m=\u001b[39m \u001b[39mopen\u001b[39m(handle, ioargs\u001b[39m.\u001b[39mmode)\n",
      "\u001b[1;31mFileNotFoundError\u001b[0m: [Errno 2] No such file or directory: 'data/vals.csv'"
     ]
    }
   ],
   "source": [
    "col_names = ['arquitectura', 'loss', 'val_loss', 'accuracy', 'val_accuracy', 'epoch']\n",
    "#dff = pd.DataFrame([], columns=col_names)\n",
    "dff = pd.read_csv(PATH + 'data/vals.csv')\n",
    "final_epoch=len(historico.history['loss'])-1\n",
    "print(final_epoch)\n",
    "tloss = historico.history['loss'][final_epoch-1]\n",
    "print(tloss)\n",
    "vloss = historico.history['val_loss'][final_epoch-1]\n",
    "print(vloss)\n",
    "tacc = historico.history['accuracy'][final_epoch-1]\n",
    "print(tacc)\n",
    "vacc = historico.history['val_accuracy'][final_epoch-1]\n",
    "print(vacc)\n",
    "datos = pd.DataFrame([[arch, tloss, vloss, tacc, vacc, final_epoch]], columns=col_names)\n",
    "datos = pd.concat([dff, datos], ignore_index=True)\n",
    "datos.to_csv(PATH + 'data/vals.csv', index = False)"
   ]
  }
 ],
 "metadata": {
  "kernelspec": {
   "display_name": ".venv",
   "language": "python",
   "name": "python3"
  },
  "language_info": {
   "codemirror_mode": {
    "name": "ipython",
    "version": 3
   },
   "file_extension": ".py",
   "mimetype": "text/x-python",
   "name": "python",
   "nbconvert_exporter": "python",
   "pygments_lexer": "ipython3",
   "version": "3.9.7"
  },
  "orig_nbformat": 4,
  "vscode": {
   "interpreter": {
    "hash": "9c2f33930e0251357d2ea1084dd95d18504228bc720bfd50e253d2c40a7f44c1"
   }
  }
 },
 "nbformat": 4,
 "nbformat_minor": 2
}
